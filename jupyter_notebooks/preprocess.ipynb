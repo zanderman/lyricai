{
 "metadata": {
  "language_info": {
   "codemirror_mode": {
    "name": "ipython",
    "version": 3
   },
   "file_extension": ".py",
   "mimetype": "text/x-python",
   "name": "python",
   "nbconvert_exporter": "python",
   "pygments_lexer": "ipython3",
   "version": "3.9.2"
  },
  "orig_nbformat": 2,
  "kernelspec": {
   "name": "python392jvsc74a57bd064d019df8f386dcc423f9fd084afce6ddb1bf16f9fb1fd7275a3007e4feb955b",
   "display_name": "Python 3.9.2 64-bit ('lyricai-GYvo4rtv': pipenv)"
  }
 },
 "nbformat": 4,
 "nbformat_minor": 2,
 "cells": [
  {
   "source": [
    "# Data Pre-processing"
   ],
   "cell_type": "markdown",
   "metadata": {}
  },
  {
   "cell_type": "code",
   "execution_count": 402,
   "metadata": {},
   "outputs": [],
   "source": [
    "import os\n",
    "import json"
   ]
  },
  {
   "source": [
    "## Load lyric files"
   ],
   "cell_type": "markdown",
   "metadata": {}
  },
  {
   "cell_type": "code",
   "execution_count": 403,
   "metadata": {},
   "outputs": [],
   "source": [
    "dataset_path = '../../dataset'"
   ]
  },
  {
   "cell_type": "code",
   "execution_count": 404,
   "metadata": {},
   "outputs": [],
   "source": [
    "def get_song_files(root_dir: str) -> dict:\n",
    "    return {int(os.path.splitext(os.path.basename(f))[0]): os.path.join(root_dir, f) for f in os.listdir(root_dir) if f.endswith('.json')}"
   ]
  },
  {
   "cell_type": "code",
   "execution_count": 405,
   "metadata": {},
   "outputs": [],
   "source": [
    "def load_songs(file_dict: dict):\n",
    "    song_dict = {}\n",
    "    for song_id, path in file_dict.items():\n",
    "        with open(path, 'r') as fp:\n",
    "            song_dict[song_id] = json.load(fp)\n",
    "    return song_dict"
   ]
  },
  {
   "cell_type": "code",
   "execution_count": 406,
   "metadata": {},
   "outputs": [],
   "source": [
    "songid_to_file = get_song_files(os.path.join(dataset_path,'songs'))\n",
    "songid_to_song = load_songs(songid_to_file)"
   ]
  },
  {
   "source": [
    "## Cleanse lyrics"
   ],
   "cell_type": "markdown",
   "metadata": {}
  },
  {
   "cell_type": "code",
   "execution_count": 407,
   "metadata": {
    "tags": []
   },
   "outputs": [],
   "source": [
    "import collections\n",
    "import itertools\n",
    "import pickle\n",
    "import re\n",
    "from typing import List\n",
    "import nltk\n",
    "\n",
    "class LyricsVocab:\n",
    "    # List of tokens that have reserved corpus index.\n",
    "    PAD_token = '<pad>'\n",
    "    SOS_token = '<sos>'\n",
    "    EOS_token = '<eos>'\n",
    "    UNK_token = '<unk>'\n",
    "    reserved_tokens = [PAD_token, SOS_token, EOS_token, UNK_token]\n",
    "\n",
    "    def __init__(self, songs: dict, min_count: int = None, min_len: int = None):\n",
    "\n",
    "        # Clean the lyrics of each song and combine into 2D list of sentences and tokens.\n",
    "        self.corpus = list(itertools.chain.from_iterable(self.clean_lyrics(song['lyrics']) for _,song in songs.items()))\n",
    "\n",
    "        # Remove sentence duplicates.\n",
    "        self.corpus = list(map(str.split, set(map(' '.join, self.corpus))))\n",
    "\n",
    "        # Sort corpus by decreasing length.\n",
    "        self.corpus.sort(key=len, reverse=True)\n",
    "\n",
    "        # Remove any lines that are below the threshold.\n",
    "        if min_len:\n",
    "            self.corpus = list(itertools.takewhile(lambda sen: len(sen) >= min_len, self.corpus))\n",
    "\n",
    "        # Generate counts for each word.\n",
    "        self.counts = collections.Counter(itertools.chain.from_iterable(self.corpus))\n",
    "\n",
    "        # Remove any counts below the threshold.\n",
    "        if min_count:\n",
    "            for key,_ in itertools.dropwhile(lambda tup: tup[1] >= min_count, self.counts.most_common()):\n",
    "                del self.counts[key]\n",
    "\n",
    "        # Add EOS token to the end of each sentence.\n",
    "        for i in range(len(self.corpus)):\n",
    "            self.corpus[i].append(self.EOS_token)\n",
    "\n",
    "        # Generate list of unique words.\n",
    "        self.index2token = self.reserved_tokens + sorted(set(self.counts))\n",
    "\n",
    "        # Build mappings for: token --> index\n",
    "        self.token2index = {token: i for i,token in enumerate(self.index2token)}\n",
    "\n",
    "        # Generate index vectors based on word assignment.\n",
    "        # Since some words may have been removed, replace all unknown with the UNK token.\n",
    "        self.vectors = [[self.token2index.get(token, self.token2index[self.UNK_token]) for token in line] for line in self.corpus]\n",
    "\n",
    "    def save(self, path: str, protocol: int = pickle.DEFAULT_PROTOCOL):\n",
    "        \"\"\"Save vocabulary to a pickle file.\n",
    "        \n",
    "        The pickle file is a dictionary which contains the following keys:\n",
    "            index2token: Dictionary of index --> token\n",
    "            embed: Dictionary of song ID --> 2D list for lyric integer tokens\n",
    "            counts: Dictionary of token --> number of occurrences\n",
    "        \"\"\"\n",
    "        store = {\n",
    "            'index2token': self.index2token,\n",
    "            'token2index': self.token2index,\n",
    "            'vectors': self.vectors,\n",
    "            'counts': self.counts,\n",
    "            'corpus': self.corpus,\n",
    "        }\n",
    "        with open(path, 'wb') as fp:\n",
    "            pickle.dump(store, fp, protocol=protocol)\n",
    "\n",
    "    @staticmethod\n",
    "    def decontracted(phrase: str):\n",
    "        \"\"\"Remove English word contractions.\n",
    "\n",
    "        Gleaned from: https://stackoverflow.com/a/47091490\n",
    "        \"\"\"\n",
    "        # specific\n",
    "        phrase = re.sub(r\"won\\'t\", \"will not\", phrase)\n",
    "        phrase = re.sub(r\"can\\'t\", \"can not\", phrase)\n",
    "        phrase = re.sub(r\"wanna\", \"want to\", phrase)\n",
    "        phrase = re.sub(r\"gotta\", \"got to\", phrase)\n",
    "\n",
    "        # general\n",
    "        phrase = re.sub(r\"n\\'t\", \" not\", phrase)\n",
    "        phrase = re.sub(r\"\\'re\", \" are\", phrase)\n",
    "        phrase = re.sub(r\"\\'s\", \" is\", phrase)\n",
    "        phrase = re.sub(r\"\\'d\", \" would\", phrase)\n",
    "        phrase = re.sub(r\"\\'ll\", \" will\", phrase)\n",
    "        phrase = re.sub(r\"\\'t\", \" not\", phrase)\n",
    "        phrase = re.sub(r\"\\'ve\", \" have\", phrase)\n",
    "        phrase = re.sub(r\"\\'m\", \" am\", phrase)\n",
    "        return phrase\n",
    "\n",
    "    @classmethod\n",
    "    def clean_lyrics(cls, lyric: str) -> List[List[str]]:\n",
    "        lyric = lyric.lower() # Convert to common case.\n",
    "        lyric = re.sub(r'\\[[^\\]]*\\]', '', lyric) # Remove paranthetical content \"[*]\", like markers for chorus and verses.\n",
    "        lyric = re.sub(r'\\([^\\)]*\\)', '', lyric) # Remove paranthetical content \"(*)\", like markers for chorus and verses.\n",
    "        lyric = lyric.strip() # Remove any extra newlines at the ends.\n",
    "        lyric = cls.decontracted(lyric) # Remove contractions before tokenizer to handle special cases.\n",
    "\n",
    "        # Replace any periods with newlines to ensure sentences end with a newline.\n",
    "        lyric = re.sub(r\"\\.\", r'\\n', lyric)\n",
    "\n",
    "        # Preserve line structure because tokenizer will remove traditional newlines.\n",
    "        lyric = re.sub(r\"(?:\\s*\\n\\s*)+\", r'\\n', lyric) # Remove repeated newlines.\n",
    "        lyric = re.sub('\\n', ' NEWLINE ', lyric) # Re-map newlines so that tokenizer doesn't remove them.\n",
    "\n",
    "        # Tokenize the entire song into list of words.\n",
    "        tokens = nltk.tokenize.word_tokenize(lyric) # Split into word tokens.\n",
    "        tokens = [word for word in tokens if word.isalpha()] # Careful to remove punct after contractions.\n",
    "\n",
    "        # Group sentences together by line.\n",
    "        tokens_lines = list(filter(None, iter(list(group) for key,group in itertools.groupby(tokens, lambda s: s == 'NEWLINE') if not key)))\n",
    "        return tokens_lines"
   ]
  },
  {
   "cell_type": "code",
   "execution_count": 408,
   "metadata": {
    "tags": []
   },
   "outputs": [],
   "source": [
    "# Create vocabulary object.\n",
    "lv = LyricsVocab(songid_to_song, min_count=3, min_len=3)"
   ]
  },
  {
   "cell_type": "code",
   "execution_count": 409,
   "metadata": {
    "tags": []
   },
   "outputs": [
    {
     "output_type": "stream",
     "name": "stdout",
     "text": [
      "1339 songs\n28735 unique lines\n2778 unique words\nLongest sentence: 132 words\nShortest sentence: 4 words\n"
     ]
    }
   ],
   "source": [
    "print(f\"{len(songid_to_song)} songs\")\n",
    "print(f\"{len(lv.corpus)} unique lines\")\n",
    "print(f\"{len(lv.index2token)} unique words\")\n",
    "print(f\"Longest sentence: {len(lv.corpus[0])} words\")\n",
    "print(f\"Shortest sentence: {len(lv.corpus[-1])} words\")"
   ]
  },
  {
   "cell_type": "code",
   "execution_count": 410,
   "metadata": {},
   "outputs": [
    {
     "output_type": "stream",
     "name": "stdout",
     "text": [
      "Line:      ['from', 'the', 'honeycomb', '<eos>']\nEmbedding: [947, 2383, 3, 2]\n"
     ]
    }
   ],
   "source": [
    "print(f\"Line:      {lv.corpus[-1]}\")\n",
    "print(f\"Embedding: {lv.vectors[-1]}\")"
   ]
  },
  {
   "source": [
    "## Write embedding to pickle file"
   ],
   "cell_type": "markdown",
   "metadata": {}
  },
  {
   "cell_type": "code",
   "execution_count": 411,
   "metadata": {},
   "outputs": [
    {
     "output_type": "stream",
     "name": "stdout",
     "text": [
      "Lyrics vocabulary saved: ../../dataset/lyrics.pickle\n"
     ]
    }
   ],
   "source": [
    "path = os.path.join(dataset_path, 'lyrics.pickle')\n",
    "lv.save(path)\n",
    "print(f'Lyrics vocabulary saved: {path}')"
   ]
  }
 ]
}