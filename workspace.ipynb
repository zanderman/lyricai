{
 "metadata": {
  "language_info": {
   "codemirror_mode": {
    "name": "ipython",
    "version": 3
   },
   "file_extension": ".py",
   "mimetype": "text/x-python",
   "name": "python",
   "nbconvert_exporter": "python",
   "pygments_lexer": "ipython3",
   "version": "3.9.2"
  },
  "orig_nbformat": 2,
  "kernelspec": {
   "name": "python392jvsc74a57bd064d019df8f386dcc423f9fd084afce6ddb1bf16f9fb1fd7275a3007e4feb955b",
   "display_name": "Python 3.9.2 64-bit ('lyricai-GYvo4rtv': pipenv)"
  }
 },
 "nbformat": 4,
 "nbformat_minor": 2,
 "cells": [
  {
   "cell_type": "code",
   "execution_count": 147,
   "metadata": {},
   "outputs": [],
   "source": [
    "import os\n",
    "import json\n",
    "import torch.nn\n",
    "import torch.utils.data"
   ]
  },
  {
   "source": [
    "## Load lyric files"
   ],
   "cell_type": "markdown",
   "metadata": {}
  },
  {
   "cell_type": "code",
   "execution_count": 148,
   "metadata": {},
   "outputs": [],
   "source": [
    "dataset_path = '../dataset'"
   ]
  },
  {
   "cell_type": "code",
   "execution_count": 149,
   "metadata": {},
   "outputs": [],
   "source": [
    "def get_song_files(root_dir: str) -> dict:\n",
    "    return {int(os.path.splitext(os.path.basename(f))[0]): os.path.join(root_dir, f) for f in os.listdir(root_dir) if f.endswith('.json')}"
   ]
  },
  {
   "cell_type": "code",
   "execution_count": 150,
   "metadata": {},
   "outputs": [],
   "source": [
    "def load_songs(file_dict: dict):\n",
    "    song_dict = {}\n",
    "    for song_id, path in file_dict.items():\n",
    "        with open(path, 'r') as fp:\n",
    "            song_dict[song_id] = json.load(fp)\n",
    "    return song_dict"
   ]
  },
  {
   "cell_type": "code",
   "execution_count": 151,
   "metadata": {},
   "outputs": [],
   "source": [
    "songid_to_file = get_song_files(os.path.join(dataset_path,'songs'))\n",
    "songid_to_song = load_songs(songid_to_file)"
   ]
  },
  {
   "source": [
    "## Cleanse lyrics"
   ],
   "cell_type": "markdown",
   "metadata": {}
  },
  {
   "cell_type": "code",
   "execution_count": 152,
   "metadata": {},
   "outputs": [],
   "source": [
    "import re\n",
    "from nltk.tokenize import word_tokenize\n",
    "import string\n",
    "\n",
    "def decontracted(phrase: str):\n",
    "    \"\"\"Remove English word contractions.\n",
    "\n",
    "    Gleaned from: https://stackoverflow.com/a/47091490\n",
    "    \"\"\"\n",
    "    # specific\n",
    "    phrase = re.sub(r\"won\\'t\", \"will not\", phrase)\n",
    "    phrase = re.sub(r\"can\\'t\", \"can not\", phrase)\n",
    "    phrase = re.sub(r\"wanna\", \"want to\", phrase)\n",
    "    phrase = re.sub(r\"gotta\", \"got to\", phrase)\n",
    "\n",
    "    # general\n",
    "    phrase = re.sub(r\"n\\'t\", \" not\", phrase)\n",
    "    phrase = re.sub(r\"\\'re\", \" are\", phrase)\n",
    "    phrase = re.sub(r\"\\'s\", \" is\", phrase)\n",
    "    phrase = re.sub(r\"\\'d\", \" would\", phrase)\n",
    "    phrase = re.sub(r\"\\'ll\", \" will\", phrase)\n",
    "    phrase = re.sub(r\"\\'t\", \" not\", phrase)\n",
    "    phrase = re.sub(r\"\\'ve\", \" have\", phrase)\n",
    "    phrase = re.sub(r\"\\'m\", \" am\", phrase)\n",
    "    return phrase\n",
    "\n",
    "def clean_lyric(lyric: str, preserve_lines: bool = False):\n",
    "    lyric = lyric.lower() # Convert to common case.\n",
    "    lyric = re.sub(r'\\[[^\\]]*\\]', '', lyric) # Remove paranthetical content \"[*]\", like markers for chorus and verses.\n",
    "    lyric = re.sub(r'\\([^\\)]*\\)', '', lyric) # Remove paranthetical content \"(*)\", like markers for chorus and verses.\n",
    "    lyric = lyric.strip() # Remove any extra newlines at the ends.\n",
    "    if preserve_lines:\n",
    "        lyric = re.sub(r\"(?:\\s*\\n\\s*)+\", r'\\n', lyric)\n",
    "        lyric = re.sub('\\n', ' NEWLINE ', lyric)\n",
    "    lyric = decontracted(lyric) # Remove contractions before tokenizer to handle special cases.\n",
    "    tokens = word_tokenize(lyric) # Split into word tokens.\n",
    "    tokens = [word for word in tokens if word.isalpha()] # Careful to remove punct after contractions.\n",
    "    if preserve_lines:\n",
    "        tokens = ['\\n' if 'NEWLINE' in word else word for word in tokens]\n",
    "    return tokens"
   ]
  },
  {
   "cell_type": "code",
   "execution_count": 153,
   "metadata": {},
   "outputs": [],
   "source": [
    "songid_to_lyrics = {songid: clean_lyric(song['lyrics'], preserve_lines=True) for songid,song in songid_to_song.items()}"
   ]
  },
  {
   "source": [
    "## Build vocabulary list"
   ],
   "cell_type": "markdown",
   "metadata": {}
  },
  {
   "cell_type": "code",
   "execution_count": 154,
   "metadata": {},
   "outputs": [],
   "source": [
    "# Create unique set of words.\n",
    "corpus = sorted(set(sum([lyrics for songid,lyrics in songid_to_lyrics.items()], [])))"
   ]
  },
  {
   "source": [
    "## Create integer mapping"
   ],
   "cell_type": "markdown",
   "metadata": {}
  },
  {
   "cell_type": "code",
   "execution_count": 155,
   "metadata": {},
   "outputs": [],
   "source": [
    "# Build mappings for: int <--> token\n",
    "int_to_token = {i: token for i,token in enumerate(corpus)}\n",
    "token_to_int = {token: i for i,token in int_to_token.items()}"
   ]
  },
  {
   "source": [
    "## "
   ],
   "cell_type": "markdown",
   "metadata": {}
  },
  {
   "cell_type": "code",
   "execution_count": 156,
   "metadata": {},
   "outputs": [
    {
     "output_type": "execute_result",
     "data": {
      "text/plain": [
       "['\\n',\n",
       " 'a',\n",
       " 'aa',\n",
       " 'aah',\n",
       " 'abandon',\n",
       " 'abandoned',\n",
       " 'abatido',\n",
       " 'abba',\n",
       " 'abide',\n",
       " 'abideth']"
      ]
     },
     "metadata": {},
     "execution_count": 156
    }
   ],
   "source": [
    "len(corpus)\n",
    "corpus[:10]"
   ]
  },
  {
   "source": [
    "## Embed lyrics as integers"
   ],
   "cell_type": "markdown",
   "metadata": {}
  },
  {
   "cell_type": "code",
   "execution_count": 157,
   "metadata": {},
   "outputs": [],
   "source": [
    "songid_to_embed = {songid: [token_to_int[token] for token in lyrics] for songid,lyrics in songid_to_lyrics.items()}"
   ]
  },
  {
   "cell_type": "code",
   "execution_count": 158,
   "metadata": {},
   "outputs": [
    {
     "output_type": "stream",
     "name": "stdout",
     "text": [
      "['you', 'call', 'me', 'out', 'upon', 'the', 'waters', '\\n', 'the', 'great']\n[6232, 714, 3231, 3645, 5768, 5368, 5951, 0, 5368, 2320]\n"
     ]
    }
   ],
   "source": [
    "print(songid_to_lyrics[147168][:10])\n",
    "print(songid_to_embed[147168][:10])"
   ]
  },
  {
   "source": [
    "## Write embedding to pickle file"
   ],
   "cell_type": "markdown",
   "metadata": {}
  },
  {
   "cell_type": "code",
   "execution_count": 159,
   "metadata": {},
   "outputs": [],
   "source": [
    "import pickle\n",
    "store = {\n",
    "    'mapping': int_to_token,\n",
    "    'embedding': songid_to_embed,\n",
    "}\n",
    "store_file = os.path.join(dataset_path,'embedding.pickle')\n",
    "with open(store_file, 'wb') as fp:\n",
    "    pickle.dump(store, fp, protocol=pickle.HIGHEST_PROTOCOL)"
   ]
  },
  {
   "cell_type": "code",
   "execution_count": 56,
   "metadata": {},
   "outputs": [],
   "source": [
    "# list(songid_to_song.keys())[3]"
   ]
  },
  {
   "cell_type": "code",
   "execution_count": 55,
   "metadata": {},
   "outputs": [],
   "source": [
    "# songid_to_song[list(songid_to_song.keys())[3]]['lyrics'].split('\\n')"
   ]
  },
  {
   "cell_type": "code",
   "execution_count": 4,
   "metadata": {},
   "outputs": [],
   "source": [
    "## TOO EARLY FOR THIS. WAIT UNTIL DATA IS PRE-PROCESSED FIRST!\n",
    "#\n",
    "#\n",
    "# class WorshipSongDataset(torch.utils.data.Dataset):\n",
    "#     \"\"\"Worhip Song dataset from Genius.\n",
    "#     \"\"\"\n",
    "\n",
    "#     def __init__(self, root_dir: str):\n",
    "#         self.root_dir = root_dir\n",
    "#         self.songid_to_filepath = self._scan_root_dir_for_files(root_dir)\n",
    "\n",
    "#     def _scan_root_dir_for_files(self, root_dir) -> dict:\n",
    "#         \"\"\"Helper to load file names from root directory.\n",
    "\n",
    "#         Returns a dictionary of key=song_id, value=file_path.\n",
    "#         \"\"\"\n",
    "#         return {os.path.splitext(os.path.basename(f))[0]: os.path.join(root_dir, f) for f in os.listdir(root_dir) if os.path.isfile(os.path.join(root_dir, f))}\n",
    "\n",
    "#     def __len__(self):\n",
    "#         return len(self.songid_to_filepath)\n",
    "\n",
    "#     def __getitem__(self, idx):\n",
    "#         if torch.is_tensor(idx):\n",
    "#             idx = idx.tolist()"
   ]
  },
  {
   "cell_type": "code",
   "execution_count": null,
   "metadata": {},
   "outputs": [],
   "source": []
  }
 ]
}